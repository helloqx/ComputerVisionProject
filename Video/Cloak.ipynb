{
 "cells": [
  {
   "cell_type": "markdown",
   "metadata": {},
   "source": [
    "# Invisibility Cloak Special Effect"
   ]
  },
  {
   "cell_type": "code",
   "execution_count": 1,
   "metadata": {
    "collapsed": true
   },
   "outputs": [],
   "source": [
    "import cv2\n",
    "import numpy as np"
   ]
  },
  {
   "cell_type": "code",
   "execution_count": 2,
   "metadata": {
    "collapsed": true
   },
   "outputs": [],
   "source": [
    "PATH_VIDEO = \"ghost.mp4\"\n",
    "PATH_OUTPUT = \"output.avi\"\n",
    "PATH_BG = \"bg.jpg\""
   ]
  },
  {
   "cell_type": "code",
   "execution_count": 3,
   "metadata": {
    "collapsed": true
   },
   "outputs": [],
   "source": [
    "is_show_scenes = True\n",
    "is_save_video = False"
   ]
  },
  {
   "cell_type": "code",
   "execution_count": 4,
   "metadata": {
    "collapsed": true
   },
   "outputs": [],
   "source": [
    "def open_video(path=PATH_VIDEO):\n",
    "    cap = cv2.VideoCapture(PATH_VIDEO)\n",
    "\n",
    "    # Check if video opened successfully\n",
    "    if not cap.isOpened(): \n",
    "        print(\"Error opening video stream\")\n",
    "    \n",
    "    return cap"
   ]
  },
  {
   "cell_type": "code",
   "execution_count": 5,
   "metadata": {
    "collapsed": true
   },
   "outputs": [],
   "source": [
    "def create_video_writer(video):\n",
    "    # Define the codec and create VideoWriter object\n",
    "    fourcc = cv2.VideoWriter_fourcc(*'XVID')\n",
    "    return cv2.VideoWriter(PATH_OUTPUT, fourcc, video.get(cv2.CAP_PROP_FPS), \n",
    "                         (int(video.get(cv2.CAP_PROP_FRAME_WIDTH)), int(video.get(cv2.CAP_PROP_FRAME_HEIGHT))))"
   ]
  },
  {
   "cell_type": "code",
   "execution_count": 6,
   "metadata": {
    "collapsed": true
   },
   "outputs": [],
   "source": [
    "def get_single_frame(video, output_path, frame_num=0):\n",
    "    '''\n",
    "    Saves a single frame from video as an image at output_path.\n",
    "    '''\n",
    "    video.set(cv2.CAP_PROP_POS_FRAMES, frame_num)\n",
    "    ret, frame = cap.read()\n",
    "    cv2.imwrite(output_path, frame)"
   ]
  },
  {
   "cell_type": "code",
   "execution_count": 7,
   "metadata": {
    "collapsed": true
   },
   "outputs": [],
   "source": [
    "bg = cv2.imread(PATH_BG)"
   ]
  },
  {
   "cell_type": "code",
   "execution_count": 19,
   "metadata": {
    "collapsed": true
   },
   "outputs": [],
   "source": [
    "green_brightest_low = np.array([60, 40, 255], np.uint8)\n",
    "green_brightest_upp = np.array([180, 255, 255], np.uint8)\n",
    "\n",
    "green_bright_low = np.array([60, 150, 70], np.uint8)\n",
    "green_bright_upp = np.array([90, 185, 255], np.uint8)\n",
    "\n",
    "green_dark_low = np.array([60, 185, 70], np.uint8)\n",
    "green_dark_upp = np.array([90, 235, 255], np.uint8)\n",
    "\n",
    "green_darkest_low = np.array([60, 235, 70], np.uint8)\n",
    "green_darkest_upp = np.array([90, 255, 255], np.uint8)"
   ]
  },
  {
   "cell_type": "markdown",
   "metadata": {},
   "source": [
    "## Helper Functions\n",
    "_To be replaced with own implementation?_"
   ]
  },
  {
   "cell_type": "code",
   "execution_count": 9,
   "metadata": {
    "collapsed": true
   },
   "outputs": [],
   "source": [
    "def convert_bgr_to_hsv(frame):\n",
    "    hsv = cv2.cvtColor(frame, cv2.COLOR_RGB2HSV)\n",
    "    return hsv"
   ]
  },
  {
   "cell_type": "code",
   "execution_count": 10,
   "metadata": {
    "collapsed": true
   },
   "outputs": [],
   "source": [
    "def threshold_frame(hsv, lower_color, upper_color):\n",
    "    mask = cv2.inRange(hsv, lower_color, upper_color)\n",
    "    return mask"
   ]
  },
  {
   "cell_type": "code",
   "execution_count": 11,
   "metadata": {
    "collapsed": true
   },
   "outputs": [],
   "source": [
    "def invert_frame(frame):\n",
    "    frame_inv = cv2.bitwise_not(frame)\n",
    "    return frame_inv"
   ]
  },
  {
   "cell_type": "code",
   "execution_count": 12,
   "metadata": {
    "collapsed": true
   },
   "outputs": [],
   "source": [
    "def mask_frame(frame, mask):\n",
    "    res = cv2.bitwise_and(frame, frame, mask=mask)\n",
    "    return res"
   ]
  },
  {
   "cell_type": "code",
   "execution_count": 13,
   "metadata": {
    "collapsed": true
   },
   "outputs": [],
   "source": [
    "def or_frames(frame1, frame2):\n",
    "    return cv2.bitwise_or(frame1, frame2)"
   ]
  },
  {
   "cell_type": "markdown",
   "metadata": {},
   "source": [
    "## Edit Video"
   ]
  },
  {
   "cell_type": "code",
   "execution_count": 23,
   "metadata": {
    "collapsed": false
   },
   "outputs": [],
   "source": [
    "cap = open_video()\n",
    "out = create_video_writer(cap)\n",
    "\n",
    "# Read until video is completed\n",
    "while(cap.isOpened()):\n",
    "    # Capture frame-by-frame\n",
    "    ret, frame = cap.read()\n",
    "    if ret == True:\n",
    "        \n",
    "        hsv = convert_bgr_to_hsv(frame)\n",
    "        \n",
    "        # Threshold the HSV image to get only needed colours\n",
    "        mask_brightest = threshold_frame(hsv, green_brightest_low, green_brightest_upp)\n",
    "        mask_bright = threshold_frame(hsv, green_bright_low, green_bright_upp)\n",
    "        mask_dark = threshold_frame(hsv, green_dark_low, green_dark_upp)\n",
    "        mask_darkest = threshold_frame(hsv, green_darkest_low, green_darkest_upp)\n",
    "        mask = or_frames(or_frames(mask_brightest, mask_bright), or_frames(mask_darkest, mask_dark))\n",
    "        \n",
    "        # Smooth Mask(?)\n",
    "        kernel = np.ones((5,5),np.uint8)\n",
    "        # Erode once first to remove some noise\n",
    "        e1 = cv2.erode(mask, kernel, iterations = 1)\n",
    "        # DILATE THE HOLES\n",
    "        mask = cv2.dilate(e1, kernel, iterations = 2)\n",
    "        \n",
    "        mask_inv = invert_frame(mask)\n",
    "        \n",
    "        # Hide cloth\n",
    "        res = mask_frame(frame, mask_inv)\n",
    "        \n",
    "        # Get \"see-through\" background\n",
    "        background = mask_frame(bg, mask)\n",
    "        \n",
    "        # Bitwise-OR edited frame and background\n",
    "        final = or_frames(res, background)\n",
    "\n",
    "        # Display the resulting frames\n",
    "        if is_show_scenes:\n",
    "            cv2.imshow('Original', frame)\n",
    "            cv2.imshow('Mask', mask)\n",
    "            #cv2.imshow('BG', background)\n",
    "            cv2.imshow('Res', res)\n",
    "            cv2.imshow('Final', final)\n",
    " \n",
    "        if is_save_video:\n",
    "            out.write(final)\n",
    "\n",
    "        # Press Q on keyboard to exit\n",
    "        key = cv2.waitKey(25) & 0xFF\n",
    "        if key == ord('q'):\n",
    "            break\n",
    " \n",
    "    # Break the loop when video ends\n",
    "    else:\n",
    "        break\n",
    "\n",
    "cap.release()\n",
    "out.release()\n",
    "cv2.destroyAllWindows()"
   ]
  },
  {
   "cell_type": "markdown",
   "metadata": {},
   "source": [
    "for i in frames:\n",
    "    get_single_frame(cap, \"./Frames/m\" + str(i) + \".jpg\", i)"
   ]
  },
  {
   "cell_type": "code",
   "execution_count": null,
   "metadata": {
    "collapsed": true
   },
   "outputs": [],
   "source": []
  }
 ],
 "metadata": {
  "anaconda-cloud": {},
  "kernelspec": {
   "display_name": "Python [Root]",
   "language": "python",
   "name": "Python [Root]"
  },
  "language_info": {
   "codemirror_mode": {
    "name": "ipython",
    "version": 3
   },
   "file_extension": ".py",
   "mimetype": "text/x-python",
   "name": "python",
   "nbconvert_exporter": "python",
   "pygments_lexer": "ipython3",
   "version": "3.5.2"
  }
 },
 "nbformat": 4,
 "nbformat_minor": 0
}
