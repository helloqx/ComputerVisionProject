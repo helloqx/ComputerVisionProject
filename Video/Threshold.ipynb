{
 "cells": [
  {
   "cell_type": "code",
   "execution_count": 1,
   "metadata": {
    "collapsed": true
   },
   "outputs": [],
   "source": [
    "import numpy as np\n",
    "import cv2"
   ]
  },
  {
   "cell_type": "code",
   "execution_count": 2,
   "metadata": {
    "collapsed": true
   },
   "outputs": [],
   "source": [
    "PATH_IMAGE = \"./Frames/f360.jpg\"\n",
    "image = cv2.imread(PATH_IMAGE)"
   ]
  },
  {
   "cell_type": "code",
   "execution_count": 3,
   "metadata": {
    "collapsed": false
   },
   "outputs": [],
   "source": [
    "# dummy function\n",
    "def nothing(x):\n",
    "    pass"
   ]
  },
  {
   "cell_type": "code",
   "execution_count": 13,
   "metadata": {
    "collapsed": false
   },
   "outputs": [],
   "source": [
    "# Track bar window\n",
    "cv2.namedWindow('Threshold Finder')\n",
    "\n",
    "# Track bars\n",
    "cv2.createTrackbar('lH','Threshold Finder', 0, 180, nothing)\n",
    "cv2.createTrackbar('lS', 'Threshold Finder', 0, 255, nothing)\n",
    "cv2.createTrackbar('lV', 'Threshold Finder', 0, 255, nothing)\n",
    "cv2.createTrackbar('uH', 'Threshold Finder', 180, 180, nothing)\n",
    "cv2.createTrackbar('uS', 'Threshold Finder', 255, 255, nothing)\n",
    "cv2.createTrackbar('uV', 'Threshold Finder', 255, 255, nothing)\n",
    "\n",
    "while True:\n",
    "\n",
    "    # converting image color to HSV color space\n",
    "    hsv = cv2.cvtColor(image, cv2.COLOR_RGB2HSV)\n",
    "\n",
    "    # Getting values from track bars\n",
    "    lH = cv2.getTrackbarPos('lH', 'Threshold Finder')\n",
    "    uH = cv2.getTrackbarPos('uH', 'Threshold Finder')\n",
    "    lS = cv2.getTrackbarPos('lS', 'Threshold Finder')\n",
    "    uS = cv2.getTrackbarPos('uS', 'Threshold Finder')\n",
    "    lV = cv2.getTrackbarPos('lV', 'Threshold Finder')\n",
    "    uV = cv2.getTrackbarPos('uV', 'Threshold Finder')\n",
    "\n",
    "    lowerb = np.array([lH, lS, lV], np.uint8)\n",
    "    upperb = np.array([uH, uS, uV], np.uint8)\n",
    "\n",
    "    mask = cv2.inRange(hsv, lowerb, upperb)\n",
    "    \n",
    "    # Bitwise-AND mask and original image\n",
    "    res = cv2.bitwise_and(image, image, mask= mask)\n",
    "    cv2.imshow('Threshold Finder', res)\n",
    "\n",
    "    # Press Q on keyboard to exit\n",
    "    key = cv2.waitKey(25) & 0xFF\n",
    "    if key == ord('q'):\n",
    "        break\n",
    "        \n",
    "cv2.destroyAllWindows()"
   ]
  },
  {
   "cell_type": "code",
   "execution_count": null,
   "metadata": {
    "collapsed": true
   },
   "outputs": [],
   "source": []
  }
 ],
 "metadata": {
  "kernelspec": {
   "display_name": "Python [Root]",
   "language": "python",
   "name": "Python [Root]"
  },
  "language_info": {
   "codemirror_mode": {
    "name": "ipython",
    "version": 3
   },
   "file_extension": ".py",
   "mimetype": "text/x-python",
   "name": "python",
   "nbconvert_exporter": "python",
   "pygments_lexer": "ipython3",
   "version": "3.5.2"
  }
 },
 "nbformat": 4,
 "nbformat_minor": 0
}
