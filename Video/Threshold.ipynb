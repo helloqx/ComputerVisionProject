{
 "cells": [
  {
   "cell_type": "code",
   "execution_count": 1,
   "metadata": {
    "collapsed": true
   },
   "outputs": [],
   "source": [
    "import numpy as np\n",
    "import cv2"
   ]
  },
  {
   "cell_type": "code",
   "execution_count": 2,
   "metadata": {
    "collapsed": false
   },
   "outputs": [],
   "source": [
    "# dummy function\n",
    "def nothing(x):\n",
    "    pass"
   ]
  },
  {
   "cell_type": "code",
   "execution_count": 3,
   "metadata": {
    "collapsed": false
   },
   "outputs": [],
   "source": [
    "#Read image\n",
    "PATH_IMAGE = \"./Frames/m0.jpg\"\n",
    "image = cv2.imread(PATH_IMAGE)"
   ]
  },
  {
   "cell_type": "code",
   "execution_count": 4,
   "metadata": {
    "collapsed": false
   },
   "outputs": [],
   "source": [
    "def shortcut(x):\n",
    "    if x == 0:\n",
    "        cv2.setTrackbarPos('lH', 'Threshold Finder', 0)\n",
    "        cv2.setTrackbarPos('lS', 'Threshold Finder', 0)\n",
    "        cv2.setTrackbarPos('lV', 'Threshold Finder', 0)\n",
    "        cv2.setTrackbarPos('uH', 'Threshold Finder', 180)\n",
    "        cv2.setTrackbarPos('uS', 'Threshold Finder', 255)\n",
    "        cv2.setTrackbarPos('uV', 'Threshold Finder', 255)\n",
    "    elif x == 1:\n",
    "        cv2.setTrackbarPos('lH', 'Threshold Finder', 0)\n",
    "        cv2.setTrackbarPos('lS', 'Threshold Finder', 115)\n",
    "        cv2.setTrackbarPos('lV', 'Threshold Finder', 70)\n",
    "        cv2.setTrackbarPos('uH', 'Threshold Finder', 80)\n",
    "        cv2.setTrackbarPos('uS', 'Threshold Finder', 255)\n",
    "        cv2.setTrackbarPos('uV', 'Threshold Finder', 255)"
   ]
  },
  {
   "cell_type": "code",
   "execution_count": 5,
   "metadata": {
    "collapsed": false
   },
   "outputs": [],
   "source": [
    "def frame_change(x):\n",
    "    x = x * 30\n",
    "    global image\n",
    "    image = cv2.imread(\"./Frames/m\" + str(x) + \".jpg\")"
   ]
  },
  {
   "cell_type": "code",
   "execution_count": 14,
   "metadata": {
    "collapsed": false
   },
   "outputs": [],
   "source": [
    "def do_the_thing():\n",
    "    # Track bar window\n",
    "    cv2.namedWindow('Threshold Finder')\n",
    "    cv2.namedWindow('Image', cv2.WINDOW_NORMAL)\n",
    "\n",
    "    # Track bars\n",
    "    cv2.createTrackbar('lH','Threshold Finder', 0, 180, nothing)\n",
    "    cv2.createTrackbar('lS', 'Threshold Finder', 0, 255, nothing)\n",
    "    cv2.createTrackbar('lV', 'Threshold Finder', 0, 255, nothing)\n",
    "    cv2.createTrackbar('uH', 'Threshold Finder', 180, 180, nothing)\n",
    "    cv2.createTrackbar('uS', 'Threshold Finder', 255, 255, nothing)\n",
    "    cv2.createTrackbar('uV', 'Threshold Finder', 255, 255, nothing)\n",
    "    cv2.createTrackbar('er', 'Threshold Finder', 0, 3, nothing)\n",
    "    cv2.createTrackbar('di', 'Threshold Finder', 0, 3, nothing)\n",
    "    cv2.createTrackbar('quick', 'Threshold Finder', 0, 1, shortcut)\n",
    "    cv2.createTrackbar('pic', 'Threshold Finder', 0, 31, frame_change)\n",
    "    \n",
    "\n",
    "    kernel_o = np.ones((5,5),np.uint8)\n",
    "    kernel_g = cv2.getGaussianKernel(5, 3)\n",
    "    while True:\n",
    "        # converting image color to HSV color space\n",
    "        hsv = cv2.cvtColor(image, cv2.COLOR_RGB2HSV)\n",
    "\n",
    "        # Getting values from track bars\n",
    "        lH = cv2.getTrackbarPos('lH', 'Threshold Finder')\n",
    "        uH = cv2.getTrackbarPos('uH', 'Threshold Finder')\n",
    "        lS = cv2.getTrackbarPos('lS', 'Threshold Finder')\n",
    "        uS = cv2.getTrackbarPos('uS', 'Threshold Finder')\n",
    "        lV = cv2.getTrackbarPos('lV', 'Threshold Finder')\n",
    "        uV = cv2.getTrackbarPos('uV', 'Threshold Finder')\n",
    "        er = cv2.getTrackbarPos('er', 'Threshold Finder')\n",
    "        di = cv2.getTrackbarPos('di', 'Threshold Finder')\n",
    "\n",
    "        lowerb = np.array([lH, lS, lV], np.uint8)\n",
    "        upperb = np.array([uH, uS, uV], np.uint8)\n",
    "\n",
    "        mask = cv2.inRange(hsv, lowerb, upperb)\n",
    "\n",
    "        #erode and dilate\n",
    "        e1 = cv2.dilate(mask, kernel_g, iterations = di)\n",
    "        mask = cv2.erode(e1, kernel_g, iterations = er)\n",
    "        \n",
    "\n",
    "        # Bitwise-AND mask and original image\n",
    "        res = cv2.bitwise_and(hsv, hsv, mask = mask)\n",
    "        cv2.resizeWindow('Image', 640, 360)\n",
    "        cv2.imshow('Image', res)\n",
    "\n",
    "        # Press Q on keyboard to exit\n",
    "        key = cv2.waitKey(25) & 0xFF\n",
    "        if key == ord('q'):\n",
    "            break\n",
    "\n",
    "    cv2.destroyAllWindows()"
   ]
  },
  {
   "cell_type": "code",
   "execution_count": 15,
   "metadata": {
    "collapsed": false
   },
   "outputs": [],
   "source": [
    "do_the_thing()"
   ]
  },
  {
   "cell_type": "code",
   "execution_count": null,
   "metadata": {
    "collapsed": true
   },
   "outputs": [],
   "source": []
  }
 ],
 "metadata": {
  "anaconda-cloud": {},
  "kernelspec": {
   "display_name": "Python [Root]",
   "language": "python",
   "name": "Python [Root]"
  },
  "language_info": {
   "codemirror_mode": {
    "name": "ipython",
    "version": 3
   },
   "file_extension": ".py",
   "mimetype": "text/x-python",
   "name": "python",
   "nbconvert_exporter": "python",
   "pygments_lexer": "ipython3",
   "version": "3.5.2"
  }
 },
 "nbformat": 4,
 "nbformat_minor": 0
}
